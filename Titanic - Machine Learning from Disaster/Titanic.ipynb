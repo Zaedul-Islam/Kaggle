{
  "nbformat": 4,
  "nbformat_minor": 0,
  "metadata": {
    "colab": {
      "name": "Titanic - Machine Learning from Disaster.ipynb",
      "provenance": [],
      "mount_file_id": "1ZNAB3a_wN44q-RBLP-WNoLOyD5_DECf0",
      "authorship_tag": "ABX9TyNBNiAIQ/QKINTp6WueChb8",
      "include_colab_link": true
    },
    "kernelspec": {
      "name": "python3",
      "display_name": "Python 3"
    }
  },
  "cells": [
    {
      "cell_type": "markdown",
      "metadata": {
        "id": "view-in-github",
        "colab_type": "text"
      },
      "source": [
        "<a href=\"https://colab.research.google.com/github/Zaedul-Islam/Kaggle/blob/master/Titanic%20-%20Machine%20Learning%20from%20Disaster/Titanic_Machine_Learning_from_Disaster.ipynb\" target=\"_parent\"><img src=\"https://colab.research.google.com/assets/colab-badge.svg\" alt=\"Open In Colab\"/></a>"
      ]
    },
    {
      "cell_type": "code",
      "metadata": {
        "id": "UWgsGzcMzh90",
        "colab_type": "code",
        "colab": {}
      },
      "source": [
        "# Importing pandas library\n",
        "import pandas as pd\n",
        "\n",
        "# Importing Test & Train dataset\n",
        "train = pd.read_csv('/content/drive/My Drive/Colab Notebooks/Kaggle/Titanic - Machine Learning from Disaster/Dataset/train.csv')\n",
        "test = pd.read_csv('/content/drive/My Drive/Colab Notebooks/Kaggle/Titanic - Machine Learning from Disaster/Dataset/test.csv')"
      ],
      "execution_count": 0,
      "outputs": []
    }
  ]
}